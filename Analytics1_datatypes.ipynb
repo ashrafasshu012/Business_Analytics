{
 "cells": [
  {
   "cell_type": "code",
   "execution_count": 1,
   "id": "f9464893",
   "metadata": {},
   "outputs": [
    {
     "name": "stdout",
     "output_type": "stream",
     "text": [
      "Hello Ashraf\n"
     ]
    }
   ],
   "source": [
    "print('Hello Ashraf')"
   ]
  },
  {
   "cell_type": "markdown",
   "id": "97b2c791",
   "metadata": {},
   "source": [
    "### data types"
   ]
  },
  {
   "cell_type": "markdown",
   "id": "e30fd488",
   "metadata": {},
   "source": [
    "#### Data types"
   ]
  },
  {
   "cell_type": "markdown",
   "id": "1b6bd679",
   "metadata": {},
   "source": [
    "##### Data types"
   ]
  },
  {
   "cell_type": "markdown",
   "id": "c5589453",
   "metadata": {},
   "source": [
    "## Data types"
   ]
  },
  {
   "cell_type": "code",
   "execution_count": 4,
   "id": "9587aadc",
   "metadata": {},
   "outputs": [
    {
     "data": {
      "text/plain": [
       "('ash', 'raf', 'sha')"
      ]
     },
     "execution_count": 4,
     "metadata": {},
     "output_type": "execute_result"
    }
   ],
   "source": [
    "names=\"ash\",\"raf\",\"sha\"\n",
    "names"
   ]
  },
  {
   "cell_type": "markdown",
   "id": "0d8e4df9",
   "metadata": {},
   "source": [
    "#### 1. Variable name can start with A-Z,a-z or _\n",
    "#### 2. Variable name should not start with a number\n",
    "#### 3. Variable name should not have a space\n",
    "#### 4. The only allowed character is under score\n",
    "#### 5. Case sensitive"
   ]
  },
  {
   "cell_type": "markdown",
   "id": "d135b9a8",
   "metadata": {},
   "source": [
    "#### #List\n",
    "#### allows heterogenoeus, index start from zero, mutable using index, []\n"
   ]
  },
  {
   "cell_type": "code",
   "execution_count": 5,
   "id": "c5cad2f9",
   "metadata": {},
   "outputs": [
    {
     "data": {
      "text/plain": [
       "list"
      ]
     },
     "execution_count": 5,
     "metadata": {},
     "output_type": "execute_result"
    }
   ],
   "source": [
    "sample_list=[1, 1.2, \"hi\",2+3j]\n",
    "type(sample_list)"
   ]
  },
  {
   "cell_type": "markdown",
   "id": "9e5a3bfd",
   "metadata": {},
   "source": [
    "#### # Tuple\n",
    "#### 1. Allows heterogeneous, rerive using index, is immutable, ()"
   ]
  },
  {
   "cell_type": "code",
   "execution_count": 7,
   "id": "ca754645",
   "metadata": {},
   "outputs": [
    {
     "data": {
      "text/plain": [
       "tuple"
      ]
     },
     "execution_count": 7,
     "metadata": {},
     "output_type": "execute_result"
    }
   ],
   "source": [
    "sample_tuple=(12.4,3,\"hi\",1+3j)\n",
    "sample_tuple\n",
    "type(sample_tuple)"
   ]
  },
  {
   "cell_type": "markdown",
   "id": "b5bb38d2",
   "metadata": {},
   "source": [
    "#### # sets\n",
    "#### 1. Add hetergeneous, doesnot allow duplicates, cannot access using index, ordered random,{}, mutable but not mutable by index"
   ]
  },
  {
   "cell_type": "code",
   "execution_count": 12,
   "id": "6585eab3",
   "metadata": {},
   "outputs": [
    {
     "data": {
      "text/plain": [
       "{0, 1, 2, 4, 43, 5, 'a', 'hi'}"
      ]
     },
     "execution_count": 12,
     "metadata": {},
     "output_type": "execute_result"
    }
   ],
   "source": [
    "sample_set={0,1,2,3,4,5,\"a\",\"hi\"}\n",
    "sample_set\n",
    "sample_set.add(43)\n",
    "sample_set.remove(3)\n",
    "type(sample_set)\n",
    "sample_set"
   ]
  },
  {
   "cell_type": "markdown",
   "id": "e6248302",
   "metadata": {},
   "source": [
    "#### # Dictionary\n",
    "#### 1. dictionary has key value pair datastructure\n",
    "#### 2. key is unique and value can be duplicated\n",
    "#### 3. can retrieve the value using key\n",
    "#### 4. can change the value using key\n",
    "#### 5. Key is immutable"
   ]
  },
  {
   "cell_type": "code",
   "execution_count": 14,
   "id": "0dc0b33f",
   "metadata": {},
   "outputs": [
    {
     "data": {
      "text/plain": [
       "dict"
      ]
     },
     "execution_count": 14,
     "metadata": {},
     "output_type": "execute_result"
    }
   ],
   "source": [
    "dict1={\"a\":\"alpha\", 5:\"first\", 2:\"second\", 7:\"third\", 1:\"fourth\", 6:\"sixth\"}\n",
    "type(dict1)"
   ]
  },
  {
   "cell_type": "code",
   "execution_count": 16,
   "id": "84e8de3b",
   "metadata": {},
   "outputs": [
    {
     "data": {
      "text/plain": [
       "'alpha'"
      ]
     },
     "execution_count": 16,
     "metadata": {},
     "output_type": "execute_result"
    }
   ],
   "source": [
    "dict1['a']"
   ]
  },
  {
   "cell_type": "code",
   "execution_count": 17,
   "id": "d4e5f2d3",
   "metadata": {},
   "outputs": [
    {
     "data": {
      "text/plain": [
       "'first'"
      ]
     },
     "execution_count": 17,
     "metadata": {},
     "output_type": "execute_result"
    }
   ],
   "source": [
    "dict1[5]"
   ]
  },
  {
   "cell_type": "code",
   "execution_count": 18,
   "id": "c00ef3da",
   "metadata": {},
   "outputs": [
    {
     "data": {
      "text/plain": [
       "{'a': 'alpha', 5: 'first', 2: 'second', 7: 'third', 1: 'fourth', 6: 'sixth'}"
      ]
     },
     "execution_count": 18,
     "metadata": {},
     "output_type": "execute_result"
    }
   ],
   "source": [
    "dict1"
   ]
  },
  {
   "cell_type": "code",
   "execution_count": 21,
   "id": "484de001",
   "metadata": {},
   "outputs": [],
   "source": [
    "dict1[1]=\"hi\""
   ]
  },
  {
   "cell_type": "code",
   "execution_count": 20,
   "id": "3b1cd7dc",
   "metadata": {},
   "outputs": [
    {
     "data": {
      "text/plain": [
       "{'a': 'alpha', 5: 'first', 2: 'second', 7: 'third', 1: 'hi', 6: 'sixth'}"
      ]
     },
     "execution_count": 20,
     "metadata": {},
     "output_type": "execute_result"
    }
   ],
   "source": [
    "dict1"
   ]
  },
  {
   "cell_type": "code",
   "execution_count": null,
   "id": "1f294f51",
   "metadata": {},
   "outputs": [],
   "source": []
  }
 ],
 "metadata": {
  "kernelspec": {
   "display_name": "Python 3",
   "language": "python",
   "name": "python3"
  },
  "language_info": {
   "codemirror_mode": {
    "name": "ipython",
    "version": 3
   },
   "file_extension": ".py",
   "mimetype": "text/x-python",
   "name": "python",
   "nbconvert_exporter": "python",
   "pygments_lexer": "ipython3",
   "version": "3.8.8"
  }
 },
 "nbformat": 4,
 "nbformat_minor": 5
}
